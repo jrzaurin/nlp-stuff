{
 "cells": [
  {
   "cell_type": "markdown",
   "metadata": {},
   "source": [
    "In all the directories in this repo I intend to include notebooks where I will (relatively quicly) explain the flow of the code. The idea is to facilitate the navigation and use of the .py scripts. \n",
    "\n",
    "The first one would have to do to run the code in the directory `amazon_reviews_classification_without_DL` is to download the amazon reviews. For the example here I have used the 5-core \"clothing, shoes and Jewelry\" dataset, containing 278,677 reviews. Simply, go [here](http://jmcauley.ucsd.edu/data/amazon/) and download it. \n",
    "\n",
    "Once download it place it in your directory of choice and we are ready to go:"
   ]
  },
  {
   "cell_type": "code",
   "execution_count": 1,
   "metadata": {},
   "outputs": [],
   "source": [
    "import pandas as pd\n",
    "\n",
    "from pathlib import Path"
   ]
  },
  {
   "cell_type": "code",
   "execution_count": 2,
   "metadata": {},
   "outputs": [],
   "source": [
    "DATA_PATH = Path('/home/ubuntu/projects/nlp-stuff/datasets/amazon_reviews')\n",
    "df_org = pd.read_json(DATA_PATH/'reviews_Clothing_Shoes_and_Jewelry_5.json.gz', lines=True)"
   ]
  },
  {
   "cell_type": "code",
   "execution_count": 3,
   "metadata": {},
   "outputs": [
    {
     "data": {
      "text/plain": [
       "5    163240\n",
       "4     58357\n",
       "3     30425\n",
       "2     15463\n",
       "1     11192\n",
       "Name: overall, dtype: int64"
      ]
     },
     "execution_count": 3,
     "metadata": {},
     "output_type": "execute_result"
    }
   ],
   "source": [
    "df_org.overall.value_counts()"
   ]
  },
  {
   "cell_type": "markdown",
   "metadata": {},
   "source": [
    "We can see that there are many 5 stars reviews and not many 1 or 2 starts reviews. Therefore, what I have done before moving any further is to group 1-2 stars reviews into one category and then \"rename\" all categories so they go from 0 to `num_class`. This is simply because eventually, I am going to use LightGBM, which gets classes in the format [0, num_class) "
   ]
  },
  {
   "cell_type": "code",
   "execution_count": 4,
   "metadata": {},
   "outputs": [],
   "source": [
    "# LightGBM expect classes from [0,num_class)\n",
    "df = df_org.copy()\n",
    "df['overall'] = (df['overall']-1).astype('int64')\n",
    "\n",
    "# group reviews with 1 and 2 scores into one class\n",
    "df.loc[df.overall==0, 'overall'] = 1\n",
    "\n",
    "# and back again to [0,num_class)\n",
    "df['overall'] = (df['overall']-1).astype('int64')"
   ]
  },
  {
   "cell_type": "code",
   "execution_count": 7,
   "metadata": {},
   "outputs": [
    {
     "data": {
      "text/html": [
       "<div>\n",
       "<style scoped>\n",
       "    .dataframe tbody tr th:only-of-type {\n",
       "        vertical-align: middle;\n",
       "    }\n",
       "\n",
       "    .dataframe tbody tr th {\n",
       "        vertical-align: top;\n",
       "    }\n",
       "\n",
       "    .dataframe thead th {\n",
       "        text-align: right;\n",
       "    }\n",
       "</style>\n",
       "<table border=\"1\" class=\"dataframe\">\n",
       "  <thead>\n",
       "    <tr style=\"text-align: right;\">\n",
       "      <th></th>\n",
       "      <th>reviewerID</th>\n",
       "      <th>asin</th>\n",
       "      <th>reviewerName</th>\n",
       "      <th>helpful</th>\n",
       "      <th>reviewText</th>\n",
       "      <th>overall</th>\n",
       "      <th>summary</th>\n",
       "      <th>unixReviewTime</th>\n",
       "      <th>reviewTime</th>\n",
       "    </tr>\n",
       "  </thead>\n",
       "  <tbody>\n",
       "    <tr>\n",
       "      <th>0</th>\n",
       "      <td>A1KLRMWW2FWPL4</td>\n",
       "      <td>0000031887</td>\n",
       "      <td>Amazon Customer \"cameramom\"</td>\n",
       "      <td>[0, 0]</td>\n",
       "      <td>This is a great tutu and at a really great pri...</td>\n",
       "      <td>3</td>\n",
       "      <td>Great tutu-  not cheaply made</td>\n",
       "      <td>1297468800</td>\n",
       "      <td>02 12, 2011</td>\n",
       "    </tr>\n",
       "    <tr>\n",
       "      <th>1</th>\n",
       "      <td>A2G5TCU2WDFZ65</td>\n",
       "      <td>0000031887</td>\n",
       "      <td>Amazon Customer</td>\n",
       "      <td>[0, 0]</td>\n",
       "      <td>I bought this for my 4 yr old daughter for dan...</td>\n",
       "      <td>3</td>\n",
       "      <td>Very Cute!!</td>\n",
       "      <td>1358553600</td>\n",
       "      <td>01 19, 2013</td>\n",
       "    </tr>\n",
       "    <tr>\n",
       "      <th>2</th>\n",
       "      <td>A1RLQXYNCMWRWN</td>\n",
       "      <td>0000031887</td>\n",
       "      <td>Carola</td>\n",
       "      <td>[0, 0]</td>\n",
       "      <td>What can I say... my daughters have it in oran...</td>\n",
       "      <td>3</td>\n",
       "      <td>I have buy more than one</td>\n",
       "      <td>1357257600</td>\n",
       "      <td>01 4, 2013</td>\n",
       "    </tr>\n",
       "    <tr>\n",
       "      <th>3</th>\n",
       "      <td>A8U3FAMSJVHS5</td>\n",
       "      <td>0000031887</td>\n",
       "      <td>Caromcg</td>\n",
       "      <td>[0, 0]</td>\n",
       "      <td>We bought several tutus at once, and they are ...</td>\n",
       "      <td>3</td>\n",
       "      <td>Adorable, Sturdy</td>\n",
       "      <td>1398556800</td>\n",
       "      <td>04 27, 2014</td>\n",
       "    </tr>\n",
       "    <tr>\n",
       "      <th>4</th>\n",
       "      <td>A3GEOILWLK86XM</td>\n",
       "      <td>0000031887</td>\n",
       "      <td>CJ</td>\n",
       "      <td>[0, 0]</td>\n",
       "      <td>Thank you Halo Heaven great product for Little...</td>\n",
       "      <td>3</td>\n",
       "      <td>Grammy's Angels Love it</td>\n",
       "      <td>1394841600</td>\n",
       "      <td>03 15, 2014</td>\n",
       "    </tr>\n",
       "  </tbody>\n",
       "</table>\n",
       "</div>"
      ],
      "text/plain": [
       "       reviewerID        asin                 reviewerName helpful  \\\n",
       "0  A1KLRMWW2FWPL4  0000031887  Amazon Customer \"cameramom\"  [0, 0]   \n",
       "1  A2G5TCU2WDFZ65  0000031887              Amazon Customer  [0, 0]   \n",
       "2  A1RLQXYNCMWRWN  0000031887                       Carola  [0, 0]   \n",
       "3   A8U3FAMSJVHS5  0000031887                      Caromcg  [0, 0]   \n",
       "4  A3GEOILWLK86XM  0000031887                           CJ  [0, 0]   \n",
       "\n",
       "                                          reviewText  overall  \\\n",
       "0  This is a great tutu and at a really great pri...        3   \n",
       "1  I bought this for my 4 yr old daughter for dan...        3   \n",
       "2  What can I say... my daughters have it in oran...        3   \n",
       "3  We bought several tutus at once, and they are ...        3   \n",
       "4  Thank you Halo Heaven great product for Little...        3   \n",
       "\n",
       "                         summary  unixReviewTime   reviewTime  \n",
       "0  Great tutu-  not cheaply made      1297468800  02 12, 2011  \n",
       "1                    Very Cute!!      1358553600  01 19, 2013  \n",
       "2       I have buy more than one      1357257600   01 4, 2013  \n",
       "3               Adorable, Sturdy      1398556800  04 27, 2014  \n",
       "4        Grammy's Angels Love it      1394841600  03 15, 2014  "
      ]
     },
     "execution_count": 7,
     "metadata": {},
     "output_type": "execute_result"
    }
   ],
   "source": [
    "df.head()"
   ]
  }
 ],
 "metadata": {
  "kernelspec": {
   "display_name": "Environment (conda_nlp)",
   "language": "python",
   "name": "conda_nlp"
  },
  "language_info": {
   "codemirror_mode": {
    "name": "ipython",
    "version": 3
   },
   "file_extension": ".py",
   "mimetype": "text/x-python",
   "name": "python",
   "nbconvert_exporter": "python",
   "pygments_lexer": "ipython3",
   "version": "3.6.9"
  }
 },
 "nbformat": 4,
 "nbformat_minor": 2
}
