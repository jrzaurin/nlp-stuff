{
 "cells": [
  {
   "cell_type": "markdown",
   "metadata": {},
   "source": [
    "In this repo we will simply find a quick attempt to use `pagerank` (via `networkx`), i.e. my implementation of `textrank`, to generate some summary of the amazon reviews. \n",
    "\n",
    "The amazon reviews are very heterogeneous, some are short, some are long, some are well writen some are certainly not, so we'll see how this works. \n",
    "\n",
    "One general comment I want to add is that through the entire repo, whether my experiments work or not, I am going to leave them here, so I share *\"unsuccessful code\"* as well.\n",
    "\n",
    "Anyway, having said that let's start by the beginning, breaking the reviews into sentences"
   ]
  },
  {
   "cell_type": "code",
   "execution_count": 28,
   "metadata": {},
   "outputs": [],
   "source": [
    "import pandas as pd\n",
    "import gzip\n",
    "import spacy\n",
    "import os\n",
    "\n",
    "from pathlib import Path"
   ]
  },
  {
   "cell_type": "code",
   "execution_count": 29,
   "metadata": {},
   "outputs": [],
   "source": [
    "n_cpus = os.cpu_count()\n",
    "\n",
    "DATA_PATH  = Path('../../datasets/amazon_reviews/')\n",
    "OUT_PATH   = Path('data/')\n",
    "\n",
    "nlp = spacy.load(\"en_core_web_sm\")\n",
    "MIN_TOKENS = 5 # min tokens per sentence\n",
    "MIN_SENTS  = 1 # min sentences per review"
   ]
  },
  {
   "cell_type": "markdown",
   "metadata": {},
   "source": [
    "For this notebook I am only going to use 1000 reviews"
   ]
  },
  {
   "cell_type": "code",
   "execution_count": 30,
   "metadata": {},
   "outputs": [],
   "source": [
    "if not os.path.exists(OUT_PATH): os.makedirs(OUT_PATH)\n",
    "df_org = pd.read_json(DATA_PATH/'reviews_Clothing_Shoes_and_Jewelry_5.json.gz', lines=True)\n",
    "df_summary = df_org[['reviewText', 'summary']]\n",
    "df_summary = df_summary[~df_summary.reviewText.isna()].sample(n=1000)"
   ]
  },
  {
   "cell_type": "code",
   "execution_count": 31,
   "metadata": {},
   "outputs": [
    {
     "data": {
      "text/html": [
       "<div>\n",
       "<style scoped>\n",
       "    .dataframe tbody tr th:only-of-type {\n",
       "        vertical-align: middle;\n",
       "    }\n",
       "\n",
       "    .dataframe tbody tr th {\n",
       "        vertical-align: top;\n",
       "    }\n",
       "\n",
       "    .dataframe thead th {\n",
       "        text-align: right;\n",
       "    }\n",
       "</style>\n",
       "<table border=\"1\" class=\"dataframe\">\n",
       "  <thead>\n",
       "    <tr style=\"text-align: right;\">\n",
       "      <th></th>\n",
       "      <th>reviewText</th>\n",
       "      <th>summary</th>\n",
       "    </tr>\n",
       "  </thead>\n",
       "  <tbody>\n",
       "    <tr>\n",
       "      <th>69726</th>\n",
       "      <td>Okay, so they are great jeans for play, if you're playing in the back yard, but they're not as f...</td>\n",
       "      <td>work, not play</td>\n",
       "    </tr>\n",
       "    <tr>\n",
       "      <th>237809</th>\n",
       "      <td>This is a nice set. It can even be worn under other clothes..with a little preparation. Cute out...</td>\n",
       "      <td>Good look</td>\n",
       "    </tr>\n",
       "    <tr>\n",
       "      <th>178012</th>\n",
       "      <td>I bought this for the winter and now that i have them they fit well and they are comfortable, i ...</td>\n",
       "      <td>Good</td>\n",
       "    </tr>\n",
       "    <tr>\n",
       "      <th>48519</th>\n",
       "      <td>I really like the way this wallet holds all my credit cards on one side, and my bills (folded) o...</td>\n",
       "      <td>Does the trick; slightly bulkier than I'd prefer</td>\n",
       "    </tr>\n",
       "    <tr>\n",
       "      <th>38814</th>\n",
       "      <td>Bought this for my daughter-in-law after the birth of her 3rd child and it is a beautiful neckla...</td>\n",
       "      <td>Love it!</td>\n",
       "    </tr>\n",
       "  </tbody>\n",
       "</table>\n",
       "</div>"
      ],
      "text/plain": [
       "                                                                                                 reviewText  \\\n",
       "69726   Okay, so they are great jeans for play, if you're playing in the back yard, but they're not as f...   \n",
       "237809  This is a nice set. It can even be worn under other clothes..with a little preparation. Cute out...   \n",
       "178012  I bought this for the winter and now that i have them they fit well and they are comfortable, i ...   \n",
       "48519   I really like the way this wallet holds all my credit cards on one side, and my bills (folded) o...   \n",
       "38814   Bought this for my daughter-in-law after the birth of her 3rd child and it is a beautiful neckla...   \n",
       "\n",
       "                                                 summary  \n",
       "69726                                     work, not play  \n",
       "237809                                         Good look  \n",
       "178012                                              Good  \n",
       "48519   Does the trick; slightly bulkier than I'd prefer  \n",
       "38814                                           Love it!  "
      ]
     },
     "execution_count": 31,
     "metadata": {},
     "output_type": "execute_result"
    }
   ],
   "source": [
    "df_summary.head()"
   ]
  },
  {
   "cell_type": "markdown",
   "metadata": {},
   "source": [
    "Note that in this dataset the users actually summarised the reviews themselves. This will be very useful for some supervised, DL-related future techniques I intent to use."
   ]
  },
  {
   "cell_type": "code",
   "execution_count": 32,
   "metadata": {},
   "outputs": [],
   "source": [
    "# Keep reviews with more than MIN_TOKENS 'tokens'\n",
    "keep_review_1 = [len(r.split(' '))>MIN_TOKENS for r in df_summary.reviewText]\n",
    "df_summary = df_summary.loc[keep_review_1].reset_index(drop=True)"
   ]
  },
  {
   "cell_type": "markdown",
   "metadata": {},
   "source": [
    "\"Sentersizing\"!"
   ]
  },
  {
   "cell_type": "code",
   "execution_count": 33,
   "metadata": {},
   "outputs": [],
   "source": [
    "review_sents = []\n",
    "for doc in nlp.pipe(df_summary.reviewText.tolist(), n_process=n_cpus, batch_size=1000):\n",
    "    # to str so it can be pickled\n",
    "    sents = [str(s) for s in list(doc.sents)]\n",
    "    review_sents.append(sents)"
   ]
  },
  {
   "cell_type": "code",
   "execution_count": 35,
   "metadata": {},
   "outputs": [
    {
     "name": "stdout",
     "output_type": "stream",
     "text": [
      "(993, 3)\n"
     ]
    },
    {
     "data": {
      "text/html": [
       "<div>\n",
       "<style scoped>\n",
       "    .dataframe tbody tr th:only-of-type {\n",
       "        vertical-align: middle;\n",
       "    }\n",
       "\n",
       "    .dataframe tbody tr th {\n",
       "        vertical-align: top;\n",
       "    }\n",
       "\n",
       "    .dataframe thead th {\n",
       "        text-align: right;\n",
       "    }\n",
       "</style>\n",
       "<table border=\"1\" class=\"dataframe\">\n",
       "  <thead>\n",
       "    <tr style=\"text-align: right;\">\n",
       "      <th></th>\n",
       "      <th>reviewText</th>\n",
       "      <th>summary</th>\n",
       "      <th>review_sents</th>\n",
       "    </tr>\n",
       "  </thead>\n",
       "  <tbody>\n",
       "    <tr>\n",
       "      <th>0</th>\n",
       "      <td>Okay, so they are great jeans for play, if you're playing in the back yard, but they're not as f...</td>\n",
       "      <td>work, not play</td>\n",
       "      <td>[Okay, so they are great jeans for play, if you're playing in the back yard, but they're not as ...</td>\n",
       "    </tr>\n",
       "    <tr>\n",
       "      <th>1</th>\n",
       "      <td>This is a nice set. It can even be worn under other clothes..with a little preparation. Cute out...</td>\n",
       "      <td>Good look</td>\n",
       "      <td>[This is a nice set., It can even be worn under other clothes..with a little preparation., Cute ...</td>\n",
       "    </tr>\n",
       "    <tr>\n",
       "      <th>2</th>\n",
       "      <td>I bought this for the winter and now that i have them they fit well and they are comfortable, i ...</td>\n",
       "      <td>Good</td>\n",
       "      <td>[I bought this for the winter and now that i have them they fit well, and they are comfortable, ...</td>\n",
       "    </tr>\n",
       "    <tr>\n",
       "      <th>3</th>\n",
       "      <td>I really like the way this wallet holds all my credit cards on one side, and my bills (folded) o...</td>\n",
       "      <td>Does the trick; slightly bulkier than I'd prefer</td>\n",
       "      <td>[I really like the way this wallet holds all my credit cards on one side, and my bills (folded) ...</td>\n",
       "    </tr>\n",
       "    <tr>\n",
       "      <th>4</th>\n",
       "      <td>Bought this for my daughter-in-law after the birth of her 3rd child and it is a beautiful neckla...</td>\n",
       "      <td>Love it!</td>\n",
       "      <td>[Bought this for my daughter-in-law after the birth of her 3rd child and it is a beautiful neckl...</td>\n",
       "    </tr>\n",
       "  </tbody>\n",
       "</table>\n",
       "</div>"
      ],
      "text/plain": [
       "                                                                                            reviewText  \\\n",
       "0  Okay, so they are great jeans for play, if you're playing in the back yard, but they're not as f...   \n",
       "1  This is a nice set. It can even be worn under other clothes..with a little preparation. Cute out...   \n",
       "2  I bought this for the winter and now that i have them they fit well and they are comfortable, i ...   \n",
       "3  I really like the way this wallet holds all my credit cards on one side, and my bills (folded) o...   \n",
       "4  Bought this for my daughter-in-law after the birth of her 3rd child and it is a beautiful neckla...   \n",
       "\n",
       "                                            summary  \\\n",
       "0                                    work, not play   \n",
       "1                                         Good look   \n",
       "2                                              Good   \n",
       "3  Does the trick; slightly bulkier than I'd prefer   \n",
       "4                                          Love it!   \n",
       "\n",
       "                                                                                          review_sents  \n",
       "0  [Okay, so they are great jeans for play, if you're playing in the back yard, but they're not as ...  \n",
       "1  [This is a nice set., It can even be worn under other clothes..with a little preparation., Cute ...  \n",
       "2  [I bought this for the winter and now that i have them they fit well, and they are comfortable, ...  \n",
       "3  [I really like the way this wallet holds all my credit cards on one side, and my bills (folded) ...  \n",
       "4  [Bought this for my daughter-in-law after the birth of her 3rd child and it is a beautiful neckl...  "
      ]
     },
     "execution_count": 35,
     "metadata": {},
     "output_type": "execute_result"
    }
   ],
   "source": [
    "df_summary['review_sents'] = review_sents\n",
    "print(df_summary.shape)\n",
    "df_summary.head()"
   ]
  },
  {
   "cell_type": "code",
   "execution_count": 36,
   "metadata": {},
   "outputs": [
    {
     "name": "stdout",
     "output_type": "stream",
     "text": [
      "(940, 3)\n"
     ]
    },
    {
     "data": {
      "text/html": [
       "<div>\n",
       "<style scoped>\n",
       "    .dataframe tbody tr th:only-of-type {\n",
       "        vertical-align: middle;\n",
       "    }\n",
       "\n",
       "    .dataframe tbody tr th {\n",
       "        vertical-align: top;\n",
       "    }\n",
       "\n",
       "    .dataframe thead th {\n",
       "        text-align: right;\n",
       "    }\n",
       "</style>\n",
       "<table border=\"1\" class=\"dataframe\">\n",
       "  <thead>\n",
       "    <tr style=\"text-align: right;\">\n",
       "      <th></th>\n",
       "      <th>reviewText</th>\n",
       "      <th>summary</th>\n",
       "      <th>review_sents</th>\n",
       "    </tr>\n",
       "  </thead>\n",
       "  <tbody>\n",
       "    <tr>\n",
       "      <th>0</th>\n",
       "      <td>Okay, so they are great jeans for play, if you're playing in the back yard, but they're not as f...</td>\n",
       "      <td>work, not play</td>\n",
       "      <td>[Okay, so they are great jeans for play, if you're playing in the back yard, but they're not as ...</td>\n",
       "    </tr>\n",
       "    <tr>\n",
       "      <th>1</th>\n",
       "      <td>This is a nice set. It can even be worn under other clothes..with a little preparation. Cute out...</td>\n",
       "      <td>Good look</td>\n",
       "      <td>[This is a nice set., It can even be worn under other clothes..with a little preparation., Cute ...</td>\n",
       "    </tr>\n",
       "    <tr>\n",
       "      <th>2</th>\n",
       "      <td>I bought this for the winter and now that i have them they fit well and they are comfortable, i ...</td>\n",
       "      <td>Good</td>\n",
       "      <td>[I bought this for the winter and now that i have them they fit well, and they are comfortable, ...</td>\n",
       "    </tr>\n",
       "    <tr>\n",
       "      <th>3</th>\n",
       "      <td>I really like the way this wallet holds all my credit cards on one side, and my bills (folded) o...</td>\n",
       "      <td>Does the trick; slightly bulkier than I'd prefer</td>\n",
       "      <td>[I really like the way this wallet holds all my credit cards on one side, and my bills (folded) ...</td>\n",
       "    </tr>\n",
       "    <tr>\n",
       "      <th>4</th>\n",
       "      <td>These are great. Buy multiple pairs ...Pros: Comfortable, lightweight, suit wide head, lenses ou...</td>\n",
       "      <td>Practical</td>\n",
       "      <td>[These are great., Buy multiple pairs ..., Pros: Comfortable, lightweight, suit wide head, lense...</td>\n",
       "    </tr>\n",
       "  </tbody>\n",
       "</table>\n",
       "</div>"
      ],
      "text/plain": [
       "                                                                                            reviewText  \\\n",
       "0  Okay, so they are great jeans for play, if you're playing in the back yard, but they're not as f...   \n",
       "1  This is a nice set. It can even be worn under other clothes..with a little preparation. Cute out...   \n",
       "2  I bought this for the winter and now that i have them they fit well and they are comfortable, i ...   \n",
       "3  I really like the way this wallet holds all my credit cards on one side, and my bills (folded) o...   \n",
       "4  These are great. Buy multiple pairs ...Pros: Comfortable, lightweight, suit wide head, lenses ou...   \n",
       "\n",
       "                                            summary  \\\n",
       "0                                    work, not play   \n",
       "1                                         Good look   \n",
       "2                                              Good   \n",
       "3  Does the trick; slightly bulkier than I'd prefer   \n",
       "4                                         Practical   \n",
       "\n",
       "                                                                                          review_sents  \n",
       "0  [Okay, so they are great jeans for play, if you're playing in the back yard, but they're not as ...  \n",
       "1  [This is a nice set., It can even be worn under other clothes..with a little preparation., Cute ...  \n",
       "2  [I bought this for the winter and now that i have them they fit well, and they are comfortable, ...  \n",
       "3  [I really like the way this wallet holds all my credit cards on one side, and my bills (folded) ...  \n",
       "4  [These are great., Buy multiple pairs ..., Pros: Comfortable, lightweight, suit wide head, lense...  "
      ]
     },
     "execution_count": 36,
     "metadata": {},
     "output_type": "execute_result"
    }
   ],
   "source": [
    "keep_review_2 = [len(rs)>MIN_SENTS for rs in review_sents]\n",
    "df_summary = df_summary.loc[keep_review_2].reset_index(drop=True)\n",
    "print(df_summary.shape)\n",
    "df_summary.head()"
   ]
  }
 ],
 "metadata": {
  "kernelspec": {
   "display_name": "Python 3",
   "language": "python",
   "name": "python3"
  },
  "language_info": {
   "codemirror_mode": {
    "name": "ipython",
    "version": 3
   },
   "file_extension": ".py",
   "mimetype": "text/x-python",
   "name": "python",
   "nbconvert_exporter": "python",
   "pygments_lexer": "ipython3",
   "version": "3.6.5"
  }
 },
 "nbformat": 4,
 "nbformat_minor": 2
}
