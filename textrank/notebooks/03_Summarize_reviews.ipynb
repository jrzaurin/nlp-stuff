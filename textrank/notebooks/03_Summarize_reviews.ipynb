{
 "cells": [
  {
   "cell_type": "markdown",
   "metadata": {},
   "source": [
    "Now that we have the sentence vectors, let's build a textrank summarizer in...a line of code or so..."
   ]
  },
  {
   "cell_type": "code",
   "execution_count": 1,
   "metadata": {},
   "outputs": [],
   "source": [
    "import numpy as np\n",
    "import networkx as nx\n",
    "import random\n",
    "import pickle\n",
    "\n",
    "from pathlib import Path\n",
    "# to compare with my summarizer\n",
    "from summa import summarizer\n",
    "from sklearn.metrics.pairwise import cosine_similarity"
   ]
  },
  {
   "cell_type": "markdown",
   "metadata": {},
   "source": [
    "My summarizer"
   ]
  },
  {
   "cell_type": "code",
   "execution_count": 2,
   "metadata": {},
   "outputs": [],
   "source": [
    "class Summarizer(object):\n",
    "    \"\"\"\n",
    "    Simplest pagerank-based summarizer one can possibly think of.\n",
    "\n",
    "    Parameters:\n",
    "    ----------\n",
    "    reviewtextDF: pd.DataFrame \n",
    "        DF with the original review and the processed sentences\n",
    "    idx2sent: Dict\n",
    "        keys are indexes and values sentences\n",
    "    sent2vec: Dict\n",
    "        keys are sentence indexes and values are average word vectors\n",
    "\n",
    "    Attributes:\n",
    "    ----------\n",
    "    sent2idx: Dict\n",
    "        keys are sentences and values are indexes\n",
    "    \"\"\"\n",
    "    def __init__(self, reviewtextDF, idx2sent, sent2vec):\n",
    "        super(Summarizer, self).__init__()\n",
    "        self.reviewtextDF = reviewtextDF\n",
    "        self.idx2sent = idx2sent\n",
    "        self.sent2idx = {k:v for v,k in idx2sent.items()}\n",
    "        self.sent2vec = sent2vec\n",
    "\n",
    "    def summarize(self, idx, n=100, ratio=0.2):\n",
    "        \"\"\"\n",
    "        Summarize the review corresponding to idx using n random sentences to\n",
    "        build the graph. The length of the summary will be ratio times the \n",
    "        length of the review\n",
    "        \"\"\"\n",
    "        # the indexes of the sentences in the review will be the first ones in the\n",
    "        # similarity matrix\n",
    "        org_review = self.reviewtextDF.iloc[idx].reviewText\n",
    "        proc_sents = self.reviewtextDF.iloc[idx].processed_sents\n",
    "        sentidx  = [self.sent2idx[s] for s in proc_sents]\n",
    "        idxmap = {k:v for k,v in enumerate(sentidx)}\n",
    "\n",
    "        # sample n random sentences to build a graph since 1.4 mil don't fit\n",
    "        # in memory.\n",
    "        rand_idx = random.sample(range(1, len(self.sent2idx)), n)\n",
    "        rand_idx = [r for r in rand_idx if r not in sentidx]\n",
    "        graph_idx = sentidx + rand_idx\n",
    "\n",
    "        # compute similarity mtx, corresponding graph and scores\n",
    "        wvmtx = np.vstack([self.sent2vec[i] for i in graph_idx])\n",
    "        sim_mat = cosine_similarity(wvmtx) - np.eye(len(wvmtx))\n",
    "        nx_graph = nx.from_numpy_array(sim_mat)\n",
    "        scores = nx.pagerank_numpy(nx_graph)\n",
    "\n",
    "        # extract the indexes corresponding to the sentences in the review and sort them\n",
    "        scores = list({k: scores[k] for k in idxmap}.items())\n",
    "        scores = sorted(scores, key=lambda x: x[1], reverse=True)\n",
    "\n",
    "        # print summary\n",
    "        summary_len = max(round((len(sentidx) * ratio)), 1)\n",
    "        top_score_idx = [scores[i][0] for i in range(summary_len)]\n",
    "        top_real_idx  = [idxmap[i] for i in top_score_idx]\n",
    "        summary = '\\n'.join([self.idx2sent[i] for i in top_real_idx])\n",
    "\n",
    "        return org_review, summary"
   ]
  },
  {
   "cell_type": "markdown",
   "metadata": {},
   "source": [
    "Let's go step by step through what is happening inside the class:\n",
    "\n",
    "1. Given an index we extract the original text and the processed sentences. The sentences forming the review of interest will be the first rows in the similarity matrix. To eventually access their pagerank score by index we simply build a map. \n",
    "\n",
    "2. Given that a graph of 1.4 mil nodes (i.e. a similarity matrix of 1.4mil $\\times$ 1.4mil numbers does not fit in memory, we do something much smaller/simpler. We pick n sentences (Default=100) and build a graph with those plus the sentences of the review of interest. \n",
    "\n",
    "3. We build a matrix of sentence vectors for the `len(graph_idx)` sentences and use `nx.from_numpy_array`, which is mean to be the fastest solution for small graphs, to get the pagerank score\n",
    "\n",
    "4. We then extract the first indexes corresponding to the sentence of interest (i.e. those in the \"query review\") and sort their scores\n",
    "\n",
    "Let's have a look to the results"
   ]
  },
  {
   "cell_type": "code",
   "execution_count": 19,
   "metadata": {},
   "outputs": [],
   "source": [
    "DATA_PATH = Path('../data')\n",
    "reviewtextDF = pd.read_pickle(DATA_PATH/'df_processed_reviews.p')\n",
    "idx2sent = pickle.load(open(DATA_PATH/'idx2sent.p', 'rb'))\n",
    "sent2vec = pickle.load(open(DATA_PATH/'sent2vec.p', 'rb'))"
   ]
  },
  {
   "cell_type": "code",
   "execution_count": 20,
   "metadata": {},
   "outputs": [],
   "source": [
    "my_summarizer = Summarizer(reviewtextDF, idx2sent, sent2vec)"
   ]
  },
  {
   "cell_type": "code",
   "execution_count": 22,
   "metadata": {},
   "outputs": [],
   "source": [
    "idx = np.random.choice(reviewtextDF.shape[0], 10)"
   ]
  },
  {
   "cell_type": "code",
   "execution_count": 28,
   "metadata": {},
   "outputs": [
    {
     "name": "stdout",
     "output_type": "stream",
     "text": [
      "Original review: \n",
      " OK - it's big!  However, that is what I like about it.  I can carry as much of my day-to-day life as I need to and still have room left over.  The yellow (think marigolds) is beautiful.  I get many compliments on this gorgeous bag.  I've spend 3 to 4 times the amount I paid for this and did not like them any better.  It may not last as long, but for the price and use I cannot complain.  Be careful; if you put all you can in here, you won't be able to carry it!!\n",
      "My Summary:  \n",
      " i can carry as much of my day to day life as i need to and still have room left over\n",
      "i have spend to times the amount i paid for this and did not like them any better\n",
      "Summanlp TextRank:  \n",
      " Be careful; if you put all you can in here, you won't be able to carry it!!\n",
      "Original review: \n",
      " I've been eying these for awhile, And they are on the cheaper side but if you plan on buying jewerly that is this cheap you should expect that, Honestly the problems are only really in the chain used on the neckace, It's cheap and could break easily, But if you go to walmart and do some research it's incredibly easy to buy new necklace chain and clasps and just replace it with a higher quality chain.The bracelete is nice and it can be clasped to fit any sized wrist, The ring however is ajustable but on the smaller and cheaper side, I'd be careful where I wear this is all.They are pretty though and I feel like it was worth the money.\n",
      "My Summary:  \n",
      " the bracelete is nice and it can be clasped to fit any sized wrist the ring however is ajustable but on the smaller and cheaper side i would be careful where i wear this\n",
      "you should expect that honestly the problems are only really in the chain used on the neckace it s cheap and could break easily\n",
      "Summanlp TextRank:  \n",
      " \n",
      "Original review: \n",
      " These are small, chunky earrings, just the right size to hug your ear. Had no problem putting them on. Will be wearing them a lot.\n",
      "My Summary:  \n",
      " will be wearing them a lot\n",
      "Summanlp TextRank:  \n",
      " \n",
      "Original review: \n",
      " this belt is really really cute! I wear it all the time. I also have it in white. It goes with so many things.I love it!!!!!!!!!!\n",
      "My Summary:  \n",
      " i wear it all the time\n",
      "Summanlp TextRank:  \n",
      " \n",
      "Original review: \n",
      " These are really nice glasses and I can't live without.  I'm a repeat buyer for years (when I lose them)....but lens will come apart/break by top screw eventually. I've owned 4 pairs of these and the lens always breaks there after about 8-12 months. They replaced them all but it's is not free to do this even under warranty. Charge a service fee and you have to ship back. I've owned Ray Bans that this never happen to. Just a pain to keep returning for repair. You have to be VERY careful when you clean them They are very fragile where the lens and screw are drilled in. They are light weight and that probably contributes to the breaking issue. Clean them very very gentle or in time they will break! Yours might be broken already and its just hasn't slipped out yet. The screw will still hold the lenses in.\n",
      "My Summary:  \n",
      " clean them very very gentle or in time they will break\n",
      "they are light weight and that probably contributes to the breaking issue\n",
      "yours might be broken already and its just has not slipped out yet\n",
      "Summanlp TextRank:  \n",
      " I'm a repeat buyer for years (when I lose them)....but lens will come apart/break by top screw eventually.\n",
      "I've owned 4 pairs of these and the lens always breaks there after about 8-12 months.\n",
      "Original review: \n",
      " I was looking for an option that would keep the sun out, but stay on my baby's head.  This does it all.  It has a wide brim, so additional shading such as sunglasses are not necessary.  It has a 'cinch&#34; to tighten or loosen it, which is a great option and will grow with the baby.  I ordered the infant size and it fits my two month old great, give or take a few months.  Not sure it will still fit at 6 months.....but I think the price is good enough, that I will order the next size up by then.  If there is any negative about the hat, it would be that brim is a tiny bit too floppy, so I have to readjust it to keep baby's eyes visible.  But, that being said, I don't think it would be comfortable for the baby if it weren't as soft and comfy as it is.\n",
      "My Summary:  \n",
      " but i think the price is good enough that i will order the next size up by then\n",
      "but that being said i do not think it would be comfortable for the baby if it were not as soft and comfy as it is\n",
      "Summanlp TextRank:  \n",
      " It has a 'cinch&#34; to tighten or loosen it, which is a great option and will grow with the baby.\n",
      "Original review: \n",
      " i bought this to go skiing, but everytime snow got on it i have to take it off and try to dry it up. this would be awesome for motorcycling in cold weather or something of that sort. not the best for skiing even thought it did keep my extremely warm when it wasnt wet.\n",
      "My Summary:  \n",
      " not the best for skiing even thought it did keep my extremely warm when it was not wet\n",
      "Summanlp TextRank:  \n",
      " \n",
      "Original review: \n",
      " Love these.  I was preparing to travel by air and wanted something compact for my luggage.  I wear an size 8 shoe and the large is perfect.  Haven't had them long enough to wash yet, but they are quite sturdy.  They have a stiff, synthetic sole, but the inside footbed is soft and so is the rest of the slipper.  Embroidery is cute and I feel look feminine.  They are very comfortable.  I plan to save them for travel.\n",
      "My Summary:  \n",
      " have not had them long enough to wash yet but they are quite sturdy\n",
      "they have a stiff synthetic sole but the inside footbed is soft and so is the rest of the slipper\n",
      "Summanlp TextRank:  \n",
      " I was preparing to travel by air and wanted something compact for my luggage.\n",
      "Original review: \n",
      " I've taken it diving and all over. I love that it's solar charged.... but without instructions (seller issue) this watch will baffle you a little bit. I guess that's why the internet is a great thing.\n",
      "My Summary:  \n",
      " i have taken it diving and all over\n",
      "Summanlp TextRank:  \n",
      " \n",
      "Original review: \n",
      " I liked the shirt itself...but as others have said, it is ridiculously small.  A normally wear a large.  I order the XX, which is the biggest one they have, and it was still too small.\n",
      "My Summary:  \n",
      " i order the xx which is the biggest one they have and it was still too small\n",
      "Summanlp TextRank:  \n",
      " \n"
     ]
    }
   ],
   "source": [
    "for i in idx:\n",
    "    review, my_summary = my_summarizer.summarize(i)\n",
    "    summary = summarizer.summarize(review)\n",
    "    print(\"Original review: \\n {}\".format(review))\n",
    "    print(\"My Summary:  \\n {}\".format(my_summary))\n",
    "    print(\"Summanlp TextRank:  \\n {}\".format(summary))"
   ]
  },
  {
   "cell_type": "markdown",
   "metadata": {},
   "source": [
    "When no `Summanlp TextRank` appears is simply because the description is short. Change the `ratio` parameter in `summarizer.summarize(review, ratio=0.4)` and problem solved. \n",
    "\n",
    "As one might expect, the Summanlp summaries are better :) \n",
    "\n",
    "More on text summarization in the future."
   ]
  }
 ],
 "metadata": {
  "kernelspec": {
   "display_name": "Python 3",
   "language": "python",
   "name": "python3"
  },
  "language_info": {
   "codemirror_mode": {
    "name": "ipython",
    "version": 3
   },
   "file_extension": ".py",
   "mimetype": "text/x-python",
   "name": "python",
   "nbconvert_exporter": "python",
   "pygments_lexer": "ipython3",
   "version": "3.6.5"
  }
 },
 "nbformat": 4,
 "nbformat_minor": 2
}
