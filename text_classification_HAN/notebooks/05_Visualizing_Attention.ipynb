{
 "cells": [
  {
   "cell_type": "markdown",
   "metadata": {},
   "source": [
    "**NOTE**: to run the notebooks move them to the main dir. Simply\n",
    "\n",
    "```bash\n",
    "cp notebook_name.ipynd ../\n",
    "```\n",
    "\n",
    "Let's have a look here to the attention weights and see if they make any sense!"
   ]
  },
  {
   "cell_type": "code",
   "execution_count": 1,
   "metadata": {},
   "outputs": [],
   "source": [
    "import numpy as np\n",
    "import pickle\n",
    "import os\n",
    "import torch\n",
    "import torch.nn.functional as F\n",
    "\n",
    "from tqdm import tqdm\n",
    "from pathlib import Path\n",
    "from sklearn.metrics import accuracy_score, f1_score, precision_score\n",
    "from torch import nn\n",
    "from torch.utils.data import TensorDataset, DataLoader\n",
    "from IPython.display import display, HTML\n",
    "\n",
    "from utils.plot_attention import plot_word_attention, plot_sent_attention\n",
    "from models.pytorch_models import HierAttnNet"
   ]
  },
  {
   "cell_type": "code",
   "execution_count": 2,
   "metadata": {},
   "outputs": [],
   "source": [
    "n_cpus = os.cpu_count()\n",
    "use_cuda = torch.cuda.is_available()"
   ]
  },
  {
   "cell_type": "markdown",
   "metadata": {},
   "source": [
    "let's first start by loading all the components we will need. If you reached this notebooks, first bravo! (🙏🏼 I know is dense), and second all the dir structure should be familiar to you. "
   ]
  },
  {
   "cell_type": "code",
   "execution_count": 3,
   "metadata": {},
   "outputs": [],
   "source": [
    "data_dir = Path(\"data\")\n",
    "log_dir  = Path(\"results\")\n",
    "test_dir = data_dir / \"test\"\n",
    "model_weights = log_dir / \"weights\"\n",
    "ftest = \"han_test.npz\"\n",
    "tokf  = \"HANPreprocessor.p\"\n",
    "model_name = \"han_lr_0.001_wdc_0.01_bsz_128_whd_64_shd_64_emb_300_drp_0.2_sch_no_cycl_no_lrp_no_pre_no\""
   ]
  },
  {
   "cell_type": "markdown",
   "metadata": {},
   "source": [
    "Let's load the test dataset"
   ]
  },
  {
   "cell_type": "code",
   "execution_count": 4,
   "metadata": {},
   "outputs": [],
   "source": [
    "test_mtx = np.load(test_dir / ftest)\n",
    "X_test = test_mtx[\"X_test\"]\n",
    "y_test = test_mtx[\"y_test\"]\n",
    "test_set = TensorDataset(\n",
    "    torch.from_numpy(test_mtx[\"X_test\"]), torch.from_numpy(test_mtx[\"y_test\"]).long(),\n",
    ")\n",
    "test_loader = DataLoader(\n",
    "    dataset=test_set, batch_size=512, num_workers=n_cpus, shuffle=False\n",
    ")"
   ]
  },
  {
   "cell_type": "markdown",
   "metadata": {},
   "source": [
    "And the tokenizer"
   ]
  },
  {
   "cell_type": "code",
   "execution_count": 5,
   "metadata": {},
   "outputs": [],
   "source": [
    "tok = pickle.load(open(data_dir / tokf, \"rb\"))"
   ]
  },
  {
   "cell_type": "markdown",
   "metadata": {},
   "source": [
    "Let's build the adequate model:\n",
    "\n",
    "`han_lr_0.001_wdc_0.01_bsz_128_whd_64_shd_64_emb_300_drp_0.2_sch_no_cycl_no_lrp_no_pre_no`\n",
    "\n",
    "so: "
   ]
  },
  {
   "cell_type": "code",
   "execution_count": 6,
   "metadata": {},
   "outputs": [],
   "source": [
    "model = HierAttnNet(\n",
    "    vocab_size=len(tok.vocab.stoi),\n",
    "    maxlen_sent=tok.maxlen_sent,\n",
    "    maxlen_doc=tok.maxlen_doc,\n",
    "    word_hidden_dim=64,\n",
    "    sent_hidden_dim=64,\n",
    "    padding_idx=1,\n",
    "    embed_dim=300,\n",
    "    weight_drop=0.0,\n",
    "    embed_drop=0.0,\n",
    "    locked_drop=0.0,\n",
    "    last_drop=0.0,\n",
    "    embedding_matrix=None,\n",
    "    num_class=4\n",
    "    )"
   ]
  },
  {
   "cell_type": "code",
   "execution_count": 7,
   "metadata": {},
   "outputs": [],
   "source": [
    "if use_cuda:\n",
    "    model = model.cuda()"
   ]
  },
  {
   "cell_type": "markdown",
   "metadata": {},
   "source": [
    "Let's define a little function to get the predictions and the attention weights"
   ]
  },
  {
   "cell_type": "code",
   "execution_count": 8,
   "metadata": {},
   "outputs": [],
   "source": [
    "def get_predictions_and_attn_weights(model, eval_loader):\n",
    "    model.eval()\n",
    "    preds, sent_a, doc_a = [], [], []\n",
    "    with torch.no_grad():\n",
    "        for data, target in tqdm(eval_loader):\n",
    "            X = data.cuda() if use_cuda else data\n",
    "            y_pred = model(X)\n",
    "            preds.append(y_pred)\n",
    "            sent_a.append(model.sent_a)\n",
    "            doc_a.append(model.doc_a)\n",
    "    return preds, sent_a, doc_a"
   ]
  },
  {
   "cell_type": "markdown",
   "metadata": {},
   "source": [
    "Let's pause here for a sec. If you remember, when I discussed the dropout mechanisms I said that the original `WeightDropout` implementation had a couple of drawbacks. One is that is not memory efficient. This is because it duplicates the weights to which we are going to apply dropout. Secondly, it renames the modules. Truth be told, for a model of this size, this is not a major drawback and we can fix this by simply using the helper function below. \n",
    "\n",
    "For a more efficient implementations, please have a look to the references I included in Notebook 02. Namely the Fastai or MxNet's GluonNLP implementations. \n",
    "\n",
    "For now, we will move one with this:"
   ]
  },
  {
   "cell_type": "code",
   "execution_count": 9,
   "metadata": {},
   "outputs": [],
   "source": [
    "def adjust_weights_dict(weights_dict):\n",
    "    new_dict = {}\n",
    "    for k, v in weights_dict.items():\n",
    "        if '_raw' not in k:\n",
    "            new_k = k.replace('module.', '')\n",
    "            new_dict[new_k] = v\n",
    "    return new_dict"
   ]
  },
  {
   "cell_type": "code",
   "execution_count": 10,
   "metadata": {},
   "outputs": [
    {
     "data": {
      "text/plain": [
       "<All keys matched successfully>"
      ]
     },
     "execution_count": 10,
     "metadata": {},
     "output_type": "execute_result"
    }
   ],
   "source": [
    "trained_weights_raw = torch.load(model_weights / (model_name + \".pt\"))\n",
    "trained_weights = adjust_weights_dict(trained_weights_raw)\n",
    "model.load_state_dict(trained_weights)"
   ]
  },
  {
   "cell_type": "code",
   "execution_count": 11,
   "metadata": {},
   "outputs": [
    {
     "name": "stderr",
     "output_type": "stream",
     "text": [
      "100%|██████████| 55/55 [00:02<00:00, 26.58it/s]\n"
     ]
    }
   ],
   "source": [
    "preds_l, word_attn_l, sent_attn_l = get_predictions_and_attn_weights(model, test_loader)"
   ]
  },
  {
   "cell_type": "code",
   "execution_count": 12,
   "metadata": {},
   "outputs": [],
   "source": [
    "preds = F.softmax(torch.cat(preds_l), 1).cpu().numpy()\n",
    "word_attn = torch.cat(word_attn_l).cpu().numpy()\n",
    "sent_attn = torch.cat(sent_attn_l).squeeze(2).cpu().numpy()"
   ]
  },
  {
   "cell_type": "markdown",
   "metadata": {},
   "source": [
    "Now we need to turn the numeric input tokens into text. This is easily done with the convenient `textify` method in Fastai's `Vocab` class. Let's go step by step"
   ]
  },
  {
   "cell_type": "code",
   "execution_count": 13,
   "metadata": {},
   "outputs": [
    {
     "data": {
      "text/plain": [
       "(27767, 7, 20)"
      ]
     },
     "execution_count": 13,
     "metadata": {},
     "output_type": "execute_result"
    }
   ],
   "source": [
    "# (n_test_observations, maxlen_doc, maxlen_sent)\n",
    "X_test.shape"
   ]
  },
  {
   "cell_type": "code",
   "execution_count": 14,
   "metadata": {},
   "outputs": [
    {
     "data": {
      "text/plain": [
       "(194369, 20)"
      ]
     },
     "execution_count": 14,
     "metadata": {},
     "output_type": "execute_result"
    }
   ],
   "source": [
    "# reshape to avoid one loop\n",
    "X_test_tmp = X_test.reshape(X_test.shape[0]*X_test.shape[1], X_test.shape[2])\n",
    "X_test_tmp.shape"
   ]
  },
  {
   "cell_type": "code",
   "execution_count": 15,
   "metadata": {},
   "outputs": [],
   "source": [
    "X_texts = [tok.vocab.textify(s) for s in X_test_tmp]\n",
    "# some people will hate re-assignment, but I can live with it in here (...not always)\n",
    "X_texts = np.array_split(X_texts, X_test.shape[0])"
   ]
  },
  {
   "cell_type": "markdown",
   "metadata": {},
   "source": [
    "Let's check I have not done something stupid"
   ]
  },
  {
   "cell_type": "code",
   "execution_count": 16,
   "metadata": {},
   "outputs": [
    {
     "data": {
      "text/plain": [
       "7"
      ]
     },
     "execution_count": 16,
     "metadata": {},
     "output_type": "execute_result"
    }
   ],
   "source": [
    "# Review/Document length should be 7\n",
    "len(X_texts[0])"
   ]
  },
  {
   "cell_type": "code",
   "execution_count": 17,
   "metadata": {},
   "outputs": [
    {
     "data": {
      "text/plain": [
       "array(['xxpad xxpad xxpad xxpad xxpad i have had very good luck with purchasing xxmaj skechers shoes for many years ...',\n",
       "       'xxpad xxpad xxpad xxpad xxpad xxpad xxpad xxpad xxmaj this time they hit the ball out of the park .',\n",
       "       'xxpad xxpad xxpad xxpad xxpad xxpad xxpad xxpad xxpad xxmaj they are so comfortable ; like walking on pillows .',\n",
       "       'xxpad xxpad xxpad i typically buy wide - width shoes , and these fit perfect with my regular size .',\n",
       "       'xxpad xxpad xxpad xxpad xxpad xxpad xxpad xxpad xxpad xxpad xxmaj plenty of room in the toe - box .',\n",
       "       'xxpad xxpad xxpad xxpad xxpad xxpad xxpad xxpad i especially like the slip - on feature instead of ties .',\n",
       "       \"my third pair of xxmaj go xxmaj walks , and i 'm sure it wo n't be my last .\"], dtype='<U169')"
      ]
     },
     "execution_count": 17,
     "metadata": {},
     "output_type": "execute_result"
    }
   ],
   "source": [
    "X_texts[19]"
   ]
  },
  {
   "cell_type": "code",
   "execution_count": 18,
   "metadata": {},
   "outputs": [
    {
     "data": {
      "text/plain": [
       "['xxpad xxpad xxpad xxpad xxpad i have had very good luck with purchasing xxmaj skechers shoes for many years ...',\n",
       " 'xxpad xxpad xxpad xxpad xxpad xxpad xxpad xxpad xxmaj this time they hit the ball out of the park .',\n",
       " 'xxpad xxpad xxpad xxpad xxpad xxpad xxpad xxpad xxpad xxmaj they are so comfortable ; like walking on pillows .',\n",
       " 'xxpad xxpad xxpad i typically buy wide - width shoes , and these fit perfect with my regular size .',\n",
       " 'xxpad xxpad xxpad xxpad xxpad xxpad xxpad xxpad xxpad xxpad xxmaj plenty of room in the toe - box .',\n",
       " 'xxpad xxpad xxpad xxpad xxpad xxpad xxpad xxpad i especially like the slip - on feature instead of ties .',\n",
       " \"my third pair of xxmaj go xxmaj walks , and i 'm sure it wo n't be my last .\"]"
      ]
     },
     "execution_count": 18,
     "metadata": {},
     "output_type": "execute_result"
    }
   ],
   "source": [
    "tmp = X_test[19]\n",
    "tmp = [tok.vocab.textify(s) for s in tmp]\n",
    "tmp"
   ]
  },
  {
   "cell_type": "markdown",
   "metadata": {},
   "source": [
    "Ok, so all make sense. It is now time to do some plots. Let's code a quick helper to select indexes according to some logic"
   ]
  },
  {
   "cell_type": "code",
   "execution_count": 19,
   "metadata": {},
   "outputs": [],
   "source": [
    "def get_indices(y_true, y_preds, n=1, agree=True, is_pos=True):\n",
    "    pred_pos = np.where(y_preds[:, 3] > 0.8)[0]\n",
    "    true_pos = np.where(y_true == 3)[0]\n",
    "    pred_neg = np.where(y_preds[:, 0] > 0.8)[0] \n",
    "    true_neg = np.where(y_true == 1)[0]\n",
    "    # if prediction and real agree\n",
    "    if agree:\n",
    "        # if real is positive\n",
    "        if is_pos:\n",
    "            idx = np.random.choice(np.intersect1d(pred_pos, true_pos), n)[0]\n",
    "        else: \n",
    "            idx = np.random.choice(np.intersect1d(pred_neg, true_neg), n)[0]\n",
    "    else:\n",
    "        if is_pos:\n",
    "            idx = np.random.choice(np.intersect1d(pred_neg, true_pos), n)[0]  \n",
    "        else: \n",
    "            idx = np.random.choice(np.intersect1d(pred_pos, true_neg), n)[0]  \n",
    "    return idx"
   ]
  },
  {
   "cell_type": "code",
   "execution_count": 41,
   "metadata": {},
   "outputs": [],
   "source": [
    "idx = get_indices(y_test, preds)"
   ]
  },
  {
   "cell_type": "code",
   "execution_count": 42,
   "metadata": {},
   "outputs": [],
   "source": [
    "doc = X_texts[idx]\n",
    "y_true = y_test[idx]\n",
    "word_w = word_attn[idx]\n",
    "doc_w  = sent_attn[idx]"
   ]
  },
  {
   "cell_type": "code",
   "execution_count": 43,
   "metadata": {},
   "outputs": [
    {
     "data": {
      "text/plain": [
       "3"
      ]
     },
     "execution_count": 43,
     "metadata": {},
     "output_type": "execute_result"
    }
   ],
   "source": [
    "y_true"
   ]
  },
  {
   "cell_type": "code",
   "execution_count": 44,
   "metadata": {},
   "outputs": [],
   "source": [
    "pred_pos_real_pos_word_attn = plot_word_attention(doc, word_w)"
   ]
  },
  {
   "cell_type": "code",
   "execution_count": 45,
   "metadata": {},
   "outputs": [],
   "source": [
    "pred_pos_real_pos_word_attn = plot_word_attention(doc, word_w)\n",
    "with open('figures/pred_pos_real_pos_word_attn.html', 'w') as f:\n",
    "    f.write(pred_pos_real_pos_word_attn)"
   ]
  },
  {
   "cell_type": "code",
   "execution_count": 1,
   "metadata": {},
   "outputs": [
    {
     "data": {
      "text/html": [
       "<font face=\"monospace\" \n",
       "size=\"3\"; span class=\"barcode\"; style=\"color: black; background-color: #ebf7e7\">&nbspxxmaj&nbsp</span><font face=\"monospace\" \n",
       "size=\"3\"; span class=\"barcode\"; style=\"color: black; background-color: #b1e0ab\">&nbspbought&nbsp</span><font face=\"monospace\" \n",
       "size=\"3\"; span class=\"barcode\"; style=\"color: black; background-color: #eaf7e6\">&nbspthis&nbsp</span><font face=\"monospace\" \n",
       "size=\"3\"; span class=\"barcode\"; style=\"color: black; background-color: #f4fbf2\">&nbspskirt&nbsp</span><font face=\"monospace\" \n",
       "size=\"3\"; span class=\"barcode\"; style=\"color: black; background-color: #e7f6e3\">&nbspfor&nbsp</span><font face=\"monospace\" \n",
       "size=\"3\"; span class=\"barcode\"; style=\"color: black; background-color: #f1faee\">&nbspmy&nbsp</span><font face=\"monospace\" \n",
       "size=\"3\"; span class=\"barcode\"; style=\"color: black; background-color: #e5f5e0\">&nbsp9&nbsp</span><font face=\"monospace\" \n",
       "size=\"3\"; span class=\"barcode\"; style=\"color: black; background-color: #f5fbf2\">&nbspyear&nbsp</span><font face=\"monospace\" \n",
       "size=\"3\"; span class=\"barcode\"; style=\"color: black; background-color: #f4fbf2\">&nbspold&nbsp</span><font face=\"monospace\" \n",
       "size=\"3\"; span class=\"barcode\"; style=\"color: black; background-color: #f5fbf3\">&nbspdaughter&nbsp</span><font face=\"monospace\" \n",
       "size=\"3\"; span class=\"barcode\"; style=\"color: black; background-color: #f6fcf4\">&nbsp.&nbsp</span></br><font face=\"monospace\" \n",
       "size=\"3\"; span class=\"barcode\"; style=\"color: black; background-color: #f5fbf2\">&nbspxxmaj&nbsp</span><font face=\"monospace\" \n",
       "size=\"3\"; span class=\"barcode\"; style=\"color: black; background-color: #eff9eb\">&nbspthe&nbsp</span><font face=\"monospace\" \n",
       "size=\"3\"; span class=\"barcode\"; style=\"color: black; background-color: #dbf1d5\">&nbspfit&nbsp</span><font face=\"monospace\" \n",
       "size=\"3\"; span class=\"barcode\"; style=\"color: black; background-color: #c2e7bb\">&nbspwas&nbsp</span><font face=\"monospace\" \n",
       "size=\"3\"; span class=\"barcode\"; style=\"color: black; background-color: #8bcf89\">&nbspperfect&nbsp</span><font face=\"monospace\" \n",
       "size=\"3\"; span class=\"barcode\"; style=\"color: black; background-color: #f6fcf4\">&nbsp.&nbsp</span></br><font face=\"monospace\" \n",
       "size=\"3\"; span class=\"barcode\"; style=\"color: black; background-color: #eff9eb\">&nbspxxmaj&nbsp</span><font face=\"monospace\" \n",
       "size=\"3\"; span class=\"barcode\"; style=\"color: black; background-color: #a8dca2\">&nbspvery&nbsp</span><font face=\"monospace\" \n",
       "size=\"3\"; span class=\"barcode\"; style=\"color: black; background-color: #b1e0ab\">&nbspsuperior&nbsp</span><font face=\"monospace\" \n",
       "size=\"3\"; span class=\"barcode\"; style=\"color: black; background-color: #def2d9\">&nbspquality&nbsp</span><font face=\"monospace\" \n",
       "size=\"3\"; span class=\"barcode\"; style=\"color: black; background-color: #f1faee\">&nbsp,&nbsp</span><font face=\"monospace\" \n",
       "size=\"3\"; span class=\"barcode\"; style=\"color: black; background-color: #f6fcf4\">&nbspnot&nbsp</span><font face=\"monospace\" \n",
       "size=\"3\"; span class=\"barcode\"; style=\"color: black; background-color: #f6fcf4\">&nbspsee&nbsp</span><font face=\"monospace\" \n",
       "size=\"3\"; span class=\"barcode\"; style=\"color: black; background-color: #f7fcf5\">&nbspthrough&nbsp</span><font face=\"monospace\" \n",
       "size=\"3\"; span class=\"barcode\"; style=\"color: black; background-color: #f7fcf5\">&nbsp.&nbsp</span></br><font face=\"monospace\" \n",
       "size=\"3\"; span class=\"barcode\"; style=\"color: black; background-color: #f5fbf2\">&nbspxxmaj&nbsp</span><font face=\"monospace\" \n",
       "size=\"3\"; span class=\"barcode\"; style=\"color: black; background-color: #acdea6\">&nbspperfect&nbsp</span><font face=\"monospace\" \n",
       "size=\"3\"; span class=\"barcode\"; style=\"color: black; background-color: #f0f9ed\">&nbsplength&nbsp</span><font face=\"monospace\" \n",
       "size=\"3\"; span class=\"barcode\"; style=\"color: black; background-color: #f2faef\">&nbsp,&nbsp</span><font face=\"monospace\" \n",
       "size=\"3\"; span class=\"barcode\"; style=\"color: black; background-color: #eef8ea\">&nbspshe&nbsp</span><font face=\"monospace\" \n",
       "size=\"3\"; span class=\"barcode\"; style=\"color: black; background-color: #e6f5e1\">&nbspcould&nbsp</span><font face=\"monospace\" \n",
       "size=\"3\"; span class=\"barcode\"; style=\"color: black; background-color: #f3faf0\">&nbspuse&nbsp</span><font face=\"monospace\" \n",
       "size=\"3\"; span class=\"barcode\"; style=\"color: black; background-color: #f2faef\">&nbspit&nbsp</span><font face=\"monospace\" \n",
       "size=\"3\"; span class=\"barcode\"; style=\"color: black; background-color: #f4fbf1\">&nbspeither&nbsp</span><font face=\"monospace\" \n",
       "size=\"3\"; span class=\"barcode\"; style=\"color: black; background-color: #f4fbf1\">&nbspfor&nbsp</span><font face=\"monospace\" \n",
       "size=\"3\"; span class=\"barcode\"; style=\"color: black; background-color: #f2faef\">&nbspa&nbsp</span><font face=\"monospace\" \n",
       "size=\"3\"; span class=\"barcode\"; style=\"color: black; background-color: #e7f6e3\">&nbspcasual&nbsp</span><font face=\"monospace\" \n",
       "size=\"3\"; span class=\"barcode\"; style=\"color: black; background-color: #f6fcf4\">&nbspor&nbsp</span><font face=\"monospace\" \n",
       "size=\"3\"; span class=\"barcode\"; style=\"color: black; background-color: #ebf7e7\">&nbspclassy&nbsp</span><font face=\"monospace\" \n",
       "size=\"3\"; span class=\"barcode\"; style=\"color: black; background-color: #f6fcf4\">&nbsplook&nbsp</span><font face=\"monospace\" \n",
       "size=\"3\"; span class=\"barcode\"; style=\"color: black; background-color: #f7fcf5\">&nbsp.&nbsp</span></br>"
      ],
      "text/plain": [
       "<IPython.core.display.HTML object>"
      ]
     },
     "metadata": {},
     "output_type": "display_data"
    }
   ],
   "source": [
    "from IPython.display import display, HTML\n",
    "display(HTML('figures/pred_pos_real_pos_word_attn.html'))"
   ]
  },
  {
   "cell_type": "code",
   "execution_count": 47,
   "metadata": {},
   "outputs": [],
   "source": [
    "pred_pos_real_pos_sent_attn = plot_sent_attention(doc, doc_w)\n",
    "with open('figures/pred_pos_real_pos_sent_attn.html', 'w') as f:\n",
    "    f.write(pred_pos_real_pos_sent_attn)"
   ]
  },
  {
   "cell_type": "code",
   "execution_count": 2,
   "metadata": {},
   "outputs": [
    {
     "data": {
      "text/html": [
       "<font face=\"monospace\" \n",
       "size=\"3\"; span class=\"barcode\"; style=\"color: black; background-color: #e5f5e1\">&nbspxxmaj bought this skirt for my 9 year old daughter .&nbsp</span></br><font face=\"monospace\" \n",
       "size=\"3\"; span class=\"barcode\"; style=\"color: black; background-color: #ceecc8\">&nbspxxmaj the fit was perfect .&nbsp</span></br><font face=\"monospace\" \n",
       "size=\"3\"; span class=\"barcode\"; style=\"color: black; background-color: #afdfa8\">&nbspxxmaj very superior quality , not see through .&nbsp</span></br><font face=\"monospace\" \n",
       "size=\"3\"; span class=\"barcode\"; style=\"color: black; background-color: #d0edca\">&nbspxxmaj perfect length , she could use it either for a casual or classy look .&nbsp</span></br>"
      ],
      "text/plain": [
       "<IPython.core.display.HTML object>"
      ]
     },
     "metadata": {},
     "output_type": "display_data"
    }
   ],
   "source": [
    "display(HTML('figures/pred_pos_real_pos_sent_attn.html'))"
   ]
  },
  {
   "cell_type": "code",
   "execution_count": 50,
   "metadata": {},
   "outputs": [
    {
     "data": {
      "text/plain": [
       "1"
      ]
     },
     "execution_count": 50,
     "metadata": {},
     "output_type": "execute_result"
    }
   ],
   "source": [
    "idx = get_indices(y_test, preds, is_pos=False)\n",
    "doc = X_texts[idx]\n",
    "y_true = y_test[idx]\n",
    "word_w = word_attn[idx]\n",
    "doc_w  = sent_attn[idx]\n",
    "y_true"
   ]
  },
  {
   "cell_type": "code",
   "execution_count": 51,
   "metadata": {},
   "outputs": [],
   "source": [
    "pred_neg_real_neg_word_attn = plot_word_attention(doc, word_w)\n",
    "with open('figures/pred_neg_real_neg_word_attn.html', 'w') as f:\n",
    "    f.write(pred_neg_real_neg_word_attn)\n",
    "\n",
    "pred_neg_real_neg_sent_attn = plot_sent_attention(doc, doc_w)\n",
    "with open('figures/pred_neg_real_neg_sent_attn.html', 'w') as f:\n",
    "    f.write(pred_neg_real_neg_sent_attn)"
   ]
  },
  {
   "cell_type": "code",
   "execution_count": 3,
   "metadata": {},
   "outputs": [
    {
     "data": {
      "text/html": [
       "<font face=\"monospace\" \n",
       "size=\"3\"; span class=\"barcode\"; style=\"color: black; background-color: #f0f9ec\">&nbspi&nbsp</span><font face=\"monospace\" \n",
       "size=\"3\"; span class=\"barcode\"; style=\"color: black; background-color: #ddf2d8\">&nbspam&nbsp</span><font face=\"monospace\" \n",
       "size=\"3\"; span class=\"barcode\"; style=\"color: black; background-color: #98d594\">&nbspnot&nbsp</span><font face=\"monospace\" \n",
       "size=\"3\"; span class=\"barcode\"; style=\"color: black; background-color: #f0f9ed\">&nbsphappy&nbsp</span><font face=\"monospace\" \n",
       "size=\"3\"; span class=\"barcode\"; style=\"color: black; background-color: #f6fcf4\">&nbspwith&nbsp</span><font face=\"monospace\" \n",
       "size=\"3\"; span class=\"barcode\"; style=\"color: black; background-color: #f4fbf1\">&nbspthis&nbsp</span><font face=\"monospace\" \n",
       "size=\"3\"; span class=\"barcode\"; style=\"color: black; background-color: #f2faf0\">&nbspxxmaj&nbsp</span><font face=\"monospace\" \n",
       "size=\"3\"; span class=\"barcode\"; style=\"color: black; background-color: #edf8ea\">&nbspyvette&nbsp</span><font face=\"monospace\" \n",
       "size=\"3\"; span class=\"barcode\"; style=\"color: black; background-color: #f5fbf2\">&nbspxxmaj&nbsp</span><font face=\"monospace\" \n",
       "size=\"3\"; span class=\"barcode\"; style=\"color: black; background-color: #f6fcf4\">&nbspwomen&nbsp</span><font face=\"monospace\" \n",
       "size=\"3\"; span class=\"barcode\"; style=\"color: black; background-color: #f4fbf2\">&nbspxxmaj&nbsp</span><font face=\"monospace\" \n",
       "size=\"3\"; span class=\"barcode\"; style=\"color: black; background-color: #edf8e9\">&nbspexercise&nbsp</span><font face=\"monospace\" \n",
       "size=\"3\"; span class=\"barcode\"; style=\"color: black; background-color: #f1faee\">&nbspbra&nbsp</span><font face=\"monospace\" \n",
       "size=\"3\"; span class=\"barcode\"; style=\"color: black; background-color: #f5fbf2\">&nbsp.&nbsp</span></br><font face=\"monospace\" \n",
       "size=\"3\"; span class=\"barcode\"; style=\"color: black; background-color: #f1faee\">&nbspxxmaj&nbsp</span><font face=\"monospace\" \n",
       "size=\"3\"; span class=\"barcode\"; style=\"color: black; background-color: #eef8ea\">&nbspit&nbsp</span><font face=\"monospace\" \n",
       "size=\"3\"; span class=\"barcode\"; style=\"color: black; background-color: #d2edcc\">&nbspis&nbsp</span><font face=\"monospace\" \n",
       "size=\"3\"; span class=\"barcode\"; style=\"color: black; background-color: #53b466\">&nbspnot&nbsp</span><font face=\"monospace\" \n",
       "size=\"3\"; span class=\"barcode\"; style=\"color: black; background-color: #f3faf0\">&nbspcomfortable&nbsp</span><font face=\"monospace\" \n",
       "size=\"3\"; span class=\"barcode\"; style=\"color: black; background-color: #f7fcf5\">&nbspat&nbsp</span><font face=\"monospace\" \n",
       "size=\"3\"; span class=\"barcode\"; style=\"color: black; background-color: #f3faf0\">&nbspall&nbsp</span><font face=\"monospace\" \n",
       "size=\"3\"; span class=\"barcode\"; style=\"color: black; background-color: #f7fcf5\">&nbsp.&nbsp</span></br><font face=\"monospace\" \n",
       "size=\"3\"; span class=\"barcode\"; style=\"color: black; background-color: #f5fbf3\">&nbspxxmaj&nbsp</span><font face=\"monospace\" \n",
       "size=\"3\"; span class=\"barcode\"; style=\"color: black; background-color: #e7f6e2\">&nbspit&nbsp</span><font face=\"monospace\" \n",
       "size=\"3\"; span class=\"barcode\"; style=\"color: black; background-color: #bbe4b4\">&nbsprubs&nbsp</span><font face=\"monospace\" \n",
       "size=\"3\"; span class=\"barcode\"; style=\"color: black; background-color: #f2faef\">&nbspin&nbsp</span><font face=\"monospace\" \n",
       "size=\"3\"; span class=\"barcode\"; style=\"color: black; background-color: #eff9eb\">&nbspall&nbsp</span><font face=\"monospace\" \n",
       "size=\"3\"; span class=\"barcode\"; style=\"color: black; background-color: #eff9eb\">&nbspthe&nbsp</span><font face=\"monospace\" \n",
       "size=\"3\"; span class=\"barcode\"; style=\"color: black; background-color: #cdecc7\">&nbspwrong&nbsp</span><font face=\"monospace\" \n",
       "size=\"3\"; span class=\"barcode\"; style=\"color: black; background-color: #def2d9\">&nbspplaces&nbsp</span><font face=\"monospace\" \n",
       "size=\"3\"; span class=\"barcode\"; style=\"color: black; background-color: #f6fcf4\">&nbsp.&nbsp</span></br>"
      ],
      "text/plain": [
       "<IPython.core.display.HTML object>"
      ]
     },
     "metadata": {},
     "output_type": "display_data"
    }
   ],
   "source": [
    "display(HTML('figures/pred_neg_real_neg_word_attn.html'))"
   ]
  },
  {
   "cell_type": "code",
   "execution_count": 4,
   "metadata": {},
   "outputs": [
    {
     "data": {
      "text/html": [
       "<font face=\"monospace\" \n",
       "size=\"3\"; span class=\"barcode\"; style=\"color: black; background-color: #abdda5\">&nbspi am not happy with this xxmaj yvette xxmaj women xxmaj exercise bra .&nbsp</span></br><font face=\"monospace\" \n",
       "size=\"3\"; span class=\"barcode\"; style=\"color: black; background-color: #c2e7bb\">&nbspxxmaj it is not comfortable at all .&nbsp</span></br><font face=\"monospace\" \n",
       "size=\"3\"; span class=\"barcode\"; style=\"color: black; background-color: #bbe4b4\">&nbspxxmaj it rubs in all the wrong places .&nbsp</span></br>"
      ],
      "text/plain": [
       "<IPython.core.display.HTML object>"
      ]
     },
     "metadata": {},
     "output_type": "display_data"
    }
   ],
   "source": [
    "display(HTML('figures/pred_neg_real_neg_sent_attn.html'))"
   ]
  },
  {
   "cell_type": "markdown",
   "metadata": {},
   "source": [
    "So...one would say it makes sense! 🥳🥳🥳. \n",
    "\n",
    "Let's now have a look to some misclassifications. "
   ]
  },
  {
   "cell_type": "code",
   "execution_count": 60,
   "metadata": {},
   "outputs": [
    {
     "data": {
      "text/plain": [
       "1"
      ]
     },
     "execution_count": 60,
     "metadata": {},
     "output_type": "execute_result"
    }
   ],
   "source": [
    "idx = get_indices(y_test, preds, agree=False, is_pos=False)\n",
    "doc = X_texts[idx]\n",
    "y_true = y_test[idx]\n",
    "word_w = word_attn[idx]\n",
    "doc_w  = sent_attn[idx]\n",
    "y_true"
   ]
  },
  {
   "cell_type": "code",
   "execution_count": 61,
   "metadata": {},
   "outputs": [],
   "source": [
    "pred_neg_real_pos_word_attn = plot_word_attention(doc, word_w, cmap='Reds')\n",
    "with open('figures/pred_neg_real_pos_word_attn.html', 'w') as f:\n",
    "    f.write(pred_neg_real_pos_word_attn)\n",
    "\n",
    "pred_neg_real_pos_sent_attn = plot_sent_attention(doc, doc_w, cmap='Reds')\n",
    "with open('figures/pred_neg_real_pos_sent_attn.html', 'w') as f:\n",
    "    f.write(pred_neg_real_pos_sent_attn)"
   ]
  },
  {
   "cell_type": "code",
   "execution_count": 5,
   "metadata": {},
   "outputs": [
    {
     "data": {
      "text/html": [
       "<font face=\"monospace\" \n",
       "size=\"3\"; span class=\"barcode\"; style=\"color: black; background-color: #ffede5\">&nbspxxmaj&nbsp</span><font face=\"monospace\" \n",
       "size=\"3\"; span class=\"barcode\"; style=\"color: black; background-color: #fc9e80\">&nbspgreat&nbsp</span><font face=\"monospace\" \n",
       "size=\"3\"; span class=\"barcode\"; style=\"color: black; background-color: #fdcebb\">&nbspflops&nbsp</span><font face=\"monospace\" \n",
       "size=\"3\"; span class=\"barcode\"; style=\"color: black; background-color: #fee6da\">&nbspfor&nbsp</span><font face=\"monospace\" \n",
       "size=\"3\"; span class=\"barcode\"; style=\"color: black; background-color: #fdcbb6\">&nbspsummer&nbsp</span><font face=\"monospace\" \n",
       "size=\"3\"; span class=\"barcode\"; style=\"color: black; background-color: #fee7db\">&nbsp!&nbsp</span></br><font face=\"monospace\" \n",
       "size=\"3\"; span class=\"barcode\"; style=\"color: black; background-color: #fff3ed\">&nbspafter&nbsp</span><font face=\"monospace\" \n",
       "size=\"3\"; span class=\"barcode\"; style=\"color: black; background-color: #fff4ef\">&nbsp1&nbsp</span><font face=\"monospace\" \n",
       "size=\"3\"; span class=\"barcode\"; style=\"color: black; background-color: #fedbcc\">&nbspsummer&nbsp</span><font face=\"monospace\" \n",
       "size=\"3\"; span class=\"barcode\"; style=\"color: black; background-color: #fff3ed\">&nbspof&nbsp</span><font face=\"monospace\" \n",
       "size=\"3\"; span class=\"barcode\"; style=\"color: black; background-color: #fff0e8\">&nbspregular&nbsp</span><font face=\"monospace\" \n",
       "size=\"3\"; span class=\"barcode\"; style=\"color: black; background-color: #fff2ec\">&nbspuse&nbsp</span><font face=\"monospace\" \n",
       "size=\"3\"; span class=\"barcode\"; style=\"color: black; background-color: #fff0e9\">&nbsp)&nbsp</span><font face=\"monospace\" \n",
       "size=\"3\"; span class=\"barcode\"; style=\"color: black; background-color: #ffede5\">&nbspbecause&nbsp</span><font face=\"monospace\" \n",
       "size=\"3\"; span class=\"barcode\"; style=\"color: black; background-color: #fff2ec\">&nbspthey&nbsp</span><font face=\"monospace\" \n",
       "size=\"3\"; span class=\"barcode\"; style=\"color: black; background-color: #fff0e8\">&nbspbecome&nbsp</span><font face=\"monospace\" \n",
       "size=\"3\"; span class=\"barcode\"; style=\"color: black; background-color: #fee2d5\">&nbspxxup&nbsp</span><font face=\"monospace\" \n",
       "size=\"3\"; span class=\"barcode\"; style=\"color: black; background-color: #fed8c7\">&nbspcrazy&nbsp</span><font face=\"monospace\" \n",
       "size=\"3\"; span class=\"barcode\"; style=\"color: black; background-color: #fdd4c2\">&nbspslippery&nbsp</span><font face=\"monospace\" \n",
       "size=\"3\"; span class=\"barcode\"; style=\"color: black; background-color: #fff2eb\">&nbspon&nbsp</span><font face=\"monospace\" \n",
       "size=\"3\"; span class=\"barcode\"; style=\"color: black; background-color: #ffeee7\">&nbspwet&nbsp</span><font face=\"monospace\" \n",
       "size=\"3\"; span class=\"barcode\"; style=\"color: black; background-color: #fee7dc\">&nbspsidewalk&nbsp</span><font face=\"monospace\" \n",
       "size=\"3\"; span class=\"barcode\"; style=\"color: black; background-color: #fff5f0\">&nbsp/&nbsp</span><font face=\"monospace\" \n",
       "size=\"3\"; span class=\"barcode\"; style=\"color: black; background-color: #ffede5\">&nbspparking&nbsp</span><font face=\"monospace\" \n",
       "size=\"3\"; span class=\"barcode\"; style=\"color: black; background-color: #fff3ed\">&nbsplot&nbsp</span><font face=\"monospace\" \n",
       "size=\"3\"; span class=\"barcode\"; style=\"color: black; background-color: #fff5f0\">&nbsp.&nbsp</span></br><font face=\"monospace\" \n",
       "size=\"3\"; span class=\"barcode\"; style=\"color: black; background-color: #fff0e8\">&nbspi&nbsp</span><font face=\"monospace\" \n",
       "size=\"3\"; span class=\"barcode\"; style=\"color: black; background-color: #fee8de\">&nbspjammed&nbsp</span><font face=\"monospace\" \n",
       "size=\"3\"; span class=\"barcode\"; style=\"color: black; background-color: #fff0e9\">&nbspmy&nbsp</span><font face=\"monospace\" \n",
       "size=\"3\"; span class=\"barcode\"; style=\"color: black; background-color: #ffeee6\">&nbsptoe&nbsp</span><font face=\"monospace\" \n",
       "size=\"3\"; span class=\"barcode\"; style=\"color: black; background-color: #fff3ed\">&nbspinto&nbsp</span><font face=\"monospace\" \n",
       "size=\"3\"; span class=\"barcode\"; style=\"color: black; background-color: #ffece4\">&nbspa&nbsp</span><font face=\"monospace\" \n",
       "size=\"3\"; span class=\"barcode\"; style=\"color: black; background-color: #fdd5c4\">&nbspcurb&nbsp</span><font face=\"monospace\" \n",
       "size=\"3\"; span class=\"barcode\"; style=\"color: black; background-color: #fee8de\">&nbspby&nbsp</span><font face=\"monospace\" \n",
       "size=\"3\"; span class=\"barcode\"; style=\"color: black; background-color: #fcb095\">&nbspaccident&nbsp</span><font face=\"monospace\" \n",
       "size=\"3\"; span class=\"barcode\"; style=\"color: black; background-color: #ffeee7\">&nbspwith&nbsp</span><font face=\"monospace\" \n",
       "size=\"3\"; span class=\"barcode\"; style=\"color: black; background-color: #ffece4\">&nbspmy&nbsp</span><font face=\"monospace\" \n",
       "size=\"3\"; span class=\"barcode\"; style=\"color: black; background-color: #ffede5\">&nbsplast&nbsp</span><font face=\"monospace\" \n",
       "size=\"3\"; span class=\"barcode\"; style=\"color: black; background-color: #feeae1\">&nbsppair&nbsp</span><font face=\"monospace\" \n",
       "size=\"3\"; span class=\"barcode\"; style=\"color: black; background-color: #fff4ee\">&nbsp.&nbsp</span></br>"
      ],
      "text/plain": [
       "<IPython.core.display.HTML object>"
      ]
     },
     "metadata": {},
     "output_type": "display_data"
    }
   ],
   "source": [
    "display(HTML('figures/pred_neg_real_pos_word_attn.html'))"
   ]
  },
  {
   "cell_type": "code",
   "execution_count": 6,
   "metadata": {},
   "outputs": [
    {
     "data": {
      "text/html": [
       "<font face=\"monospace\" \n",
       "size=\"3\"; span class=\"barcode\"; style=\"color: black; background-color: #fc8b6b\">&nbspxxmaj great flops for summer !&nbsp</span></br><font face=\"monospace\" \n",
       "size=\"3\"; span class=\"barcode\"; style=\"color: black; background-color: #fcb398\">&nbspafter 1 summer of regular use ) because they become xxup crazy slippery on wet sidewalk / parking lot .&nbsp</span></br><font face=\"monospace\" \n",
       "size=\"3\"; span class=\"barcode\"; style=\"color: black; background-color: #fdd1be\">&nbspi jammed my toe into a curb by accident with my last pair .&nbsp</span></br>"
      ],
      "text/plain": [
       "<IPython.core.display.HTML object>"
      ]
     },
     "metadata": {},
     "output_type": "display_data"
    }
   ],
   "source": [
    "display(HTML('figures/pred_neg_real_pos_sent_attn.html'))"
   ]
  },
  {
   "cell_type": "markdown",
   "metadata": {},
   "source": [
    "One would say that it is odd that this review got a bad score. Now, after some searches I noticed that observations idx 15726 was a nice example to illustrate that the model works"
   ]
  },
  {
   "cell_type": "code",
   "execution_count": 64,
   "metadata": {},
   "outputs": [
    {
     "data": {
      "text/plain": [
       "3"
      ]
     },
     "execution_count": 64,
     "metadata": {},
     "output_type": "execute_result"
    }
   ],
   "source": [
    "idx = 15726\n",
    "doc = X_texts[idx]\n",
    "y_true = y_test[idx]\n",
    "word_w = word_attn[idx]\n",
    "doc_w  = sent_attn[idx]\n",
    "y_true"
   ]
  },
  {
   "cell_type": "code",
   "execution_count": 65,
   "metadata": {},
   "outputs": [],
   "source": [
    "pred_pos_real_neg_word_attn = plot_word_attention(doc, word_w, cmap='Reds')\n",
    "with open('figures/pred_pos_real_neg_word_attn.html', 'w') as f:\n",
    "    f.write(pred_pos_real_neg_word_attn)\n",
    "    \n",
    "pred_pos_real_neg_sent_attn = plot_sent_attention(doc, doc_w, cmap='Reds')\n",
    "with open('figures/pred_pos_real_neg_sent_attn.html', 'w') as f:\n",
    "    f.write(pred_pos_real_neg_sent_attn)"
   ]
  },
  {
   "cell_type": "code",
   "execution_count": 7,
   "metadata": {},
   "outputs": [
    {
     "data": {
      "text/html": [
       "<font face=\"monospace\" \n",
       "size=\"3\"; span class=\"barcode\"; style=\"color: black; background-color: #fff4ef\">&nbspxxmaj&nbsp</span><font face=\"monospace\" \n",
       "size=\"3\"; span class=\"barcode\"; style=\"color: black; background-color: #fff0e9\">&nbspthe&nbsp</span><font face=\"monospace\" \n",
       "size=\"3\"; span class=\"barcode\"; style=\"color: black; background-color: #fff4ee\">&nbspstraps&nbsp</span><font face=\"monospace\" \n",
       "size=\"3\"; span class=\"barcode\"; style=\"color: black; background-color: #fee7dc\">&nbspare&nbsp</span><font face=\"monospace\" \n",
       "size=\"3\"; span class=\"barcode\"; style=\"color: black; background-color: #fca486\">&nbspcompletely&nbsp</span><font face=\"monospace\" \n",
       "size=\"3\"; span class=\"barcode\"; style=\"color: black; background-color: #fc8262\">&nbspmessed&nbsp</span><font face=\"monospace\" \n",
       "size=\"3\"; span class=\"barcode\"; style=\"color: black; background-color: #fee7db\">&nbspup&nbsp</span><font face=\"monospace\" \n",
       "size=\"3\"; span class=\"barcode\"; style=\"color: black; background-color: #fff4ee\">&nbsp.&nbsp</span></br><font face=\"monospace\" \n",
       "size=\"3\"; span class=\"barcode\"; style=\"color: black; background-color: #fff3ed\">&nbspxxmaj&nbsp</span><font face=\"monospace\" \n",
       "size=\"3\"; span class=\"barcode\"; style=\"color: black; background-color: #ffebe2\">&nbspthey&nbsp</span><font face=\"monospace\" \n",
       "size=\"3\"; span class=\"barcode\"; style=\"color: black; background-color: #fee2d5\">&nbspare&nbsp</span><font face=\"monospace\" \n",
       "size=\"3\"; span class=\"barcode\"; style=\"color: black; background-color: #fca285\">&nbspvery&nbsp</span><font face=\"monospace\" \n",
       "size=\"3\"; span class=\"barcode\"; style=\"color: black; background-color: #fc8262\">&nbspuncomfortable&nbsp</span><font face=\"monospace\" \n",
       "size=\"3\"; span class=\"barcode\"; style=\"color: black; background-color: #fff4ee\">&nbsp.&nbsp</span></br><font face=\"monospace\" \n",
       "size=\"3\"; span class=\"barcode\"; style=\"color: black; background-color: #fee9df\">&nbspi&nbsp</span><font face=\"monospace\" \n",
       "size=\"3\"; span class=\"barcode\"; style=\"color: black; background-color: #fcbba1\">&nbspwould&nbsp</span><font face=\"monospace\" \n",
       "size=\"3\"; span class=\"barcode\"; style=\"color: black; background-color: #fc8464\">&nbspnot&nbsp</span><font face=\"monospace\" \n",
       "size=\"3\"; span class=\"barcode\"; style=\"color: black; background-color: #ffefe8\">&nbspbuy&nbsp</span><font face=\"monospace\" \n",
       "size=\"3\"; span class=\"barcode\"; style=\"color: black; background-color: #fff4ee\">&nbspboots&nbsp</span><font face=\"monospace\" \n",
       "size=\"3\"; span class=\"barcode\"; style=\"color: black; background-color: #fff5f0\">&nbspfrom&nbsp</span><font face=\"monospace\" \n",
       "size=\"3\"; span class=\"barcode\"; style=\"color: black; background-color: #fff2ec\">&nbsphere&nbsp</span><font face=\"monospace\" \n",
       "size=\"3\"; span class=\"barcode\"; style=\"color: black; background-color: #fee3d6\">&nbspagain&nbsp</span><font face=\"monospace\" \n",
       "size=\"3\"; span class=\"barcode\"; style=\"color: black; background-color: #fff5f0\">&nbsp.&nbsp</span></br><font face=\"monospace\" \n",
       "size=\"3\"; span class=\"barcode\"; style=\"color: black; background-color: #fee6da\">&nbspxxmaj&nbsp</span><font face=\"monospace\" \n",
       "size=\"3\"; span class=\"barcode\"; style=\"color: black; background-color: #d32020\">&nbspyuck&nbsp</span><font face=\"monospace\" \n",
       "size=\"3\"; span class=\"barcode\"; style=\"color: black; background-color: #fee6da\">&nbsp!&nbsp</span></br><font face=\"monospace\" \n",
       "size=\"3\"; span class=\"barcode\"; style=\"color: black; background-color: #fee0d2\">&nbspxxmaj&nbsp</span><font face=\"monospace\" \n",
       "size=\"3\"; span class=\"barcode\"; style=\"color: black; background-color: #d72322\">&nbspdisappointing&nbsp</span><font face=\"monospace\" \n",
       "size=\"3\"; span class=\"barcode\"; style=\"color: black; background-color: #fee7db\">&nbsp!&nbsp</span></br><font face=\"monospace\" \n",
       "size=\"3\"; span class=\"barcode\"; style=\"color: black; background-color: #ffeee6\">&nbspxxmaj&nbsp</span><font face=\"monospace\" \n",
       "size=\"3\"; span class=\"barcode\"; style=\"color: black; background-color: #d01d1f\">&nbspbad&nbsp</span><font face=\"monospace\" \n",
       "size=\"3\"; span class=\"barcode\"; style=\"color: black; background-color: #fee5d9\">&nbsp!&nbsp</span></br>"
      ],
      "text/plain": [
       "<IPython.core.display.HTML object>"
      ]
     },
     "metadata": {},
     "output_type": "display_data"
    }
   ],
   "source": [
    "display(HTML('figures/pred_pos_real_neg_word_attn.html'))"
   ]
  },
  {
   "cell_type": "code",
   "execution_count": 8,
   "metadata": {},
   "outputs": [
    {
     "data": {
      "text/html": [
       "<font face=\"monospace\" \n",
       "size=\"3\"; span class=\"barcode\"; style=\"color: black; background-color: #fedfd0\">&nbspxxmaj the straps are completely messed up .&nbsp</span></br><font face=\"monospace\" \n",
       "size=\"3\"; span class=\"barcode\"; style=\"color: black; background-color: #fdc6b0\">&nbspxxmaj they are very uncomfortable .&nbsp</span></br><font face=\"monospace\" \n",
       "size=\"3\"; span class=\"barcode\"; style=\"color: black; background-color: #fdcdb9\">&nbspi would not buy boots from here again .&nbsp</span></br><font face=\"monospace\" \n",
       "size=\"3\"; span class=\"barcode\"; style=\"color: black; background-color: #fdcbb6\">&nbspxxmaj yuck !&nbsp</span></br><font face=\"monospace\" \n",
       "size=\"3\"; span class=\"barcode\"; style=\"color: black; background-color: #fdd2bf\">&nbspxxmaj disappointing !&nbsp</span></br><font face=\"monospace\" \n",
       "size=\"3\"; span class=\"barcode\"; style=\"color: black; background-color: #fee9df\">&nbspxxmaj bad !&nbsp</span></br>"
      ],
      "text/plain": [
       "<IPython.core.display.HTML object>"
      ]
     },
     "metadata": {},
     "output_type": "display_data"
    }
   ],
   "source": [
    "display(HTML('figures/pred_pos_real_neg_sent_attn.html'))"
   ]
  },
  {
   "cell_type": "markdown",
   "metadata": {},
   "source": [
    "When I saw this I wondered how is it possible that this review got a score of 3 (remember, 3 means originally 5, since I merged 1 and 2 star scores and python stars counting from 0), so I looked into this in the original dataset."
   ]
  },
  {
   "cell_type": "code",
   "execution_count": 36,
   "metadata": {},
   "outputs": [],
   "source": [
    "import pandas as pd"
   ]
  },
  {
   "cell_type": "code",
   "execution_count": 98,
   "metadata": {},
   "outputs": [],
   "source": [
    "# Whatever path you have the data\n",
    "df = pd.read_json('../datasets/amazon_reviews/reviews_Clothing_Shoes_and_Jewelry_5.json.gz', lines=True)"
   ]
  },
  {
   "cell_type": "code",
   "execution_count": 99,
   "metadata": {},
   "outputs": [
    {
     "data": {
      "text/html": [
       "<div>\n",
       "<style scoped>\n",
       "    .dataframe tbody tr th:only-of-type {\n",
       "        vertical-align: middle;\n",
       "    }\n",
       "\n",
       "    .dataframe tbody tr th {\n",
       "        vertical-align: top;\n",
       "    }\n",
       "\n",
       "    .dataframe thead th {\n",
       "        text-align: right;\n",
       "    }\n",
       "</style>\n",
       "<table border=\"1\" class=\"dataframe\">\n",
       "  <thead>\n",
       "    <tr style=\"text-align: right;\">\n",
       "      <th></th>\n",
       "      <th>reviewerID</th>\n",
       "      <th>asin</th>\n",
       "      <th>reviewerName</th>\n",
       "      <th>helpful</th>\n",
       "      <th>reviewText</th>\n",
       "      <th>overall</th>\n",
       "      <th>summary</th>\n",
       "      <th>unixReviewTime</th>\n",
       "      <th>reviewTime</th>\n",
       "    </tr>\n",
       "  </thead>\n",
       "  <tbody>\n",
       "    <tr>\n",
       "      <th>222835</th>\n",
       "      <td>ACNM0UKRB6KNB</td>\n",
       "      <td>B00919GY7E</td>\n",
       "      <td>Michaela  Reyes</td>\n",
       "      <td>[0, 0]</td>\n",
       "      <td>The straps are completely messed up. They are very uncomfortable. I would not buy boots from her...</td>\n",
       "      <td>5</td>\n",
       "      <td>I was not impressed</td>\n",
       "      <td>1383004800</td>\n",
       "      <td>10 29, 2013</td>\n",
       "    </tr>\n",
       "  </tbody>\n",
       "</table>\n",
       "</div>"
      ],
      "text/plain": [
       "           reviewerID        asin     reviewerName helpful  \\\n",
       "222835  ACNM0UKRB6KNB  B00919GY7E  Michaela  Reyes  [0, 0]   \n",
       "\n",
       "                                                                                                 reviewText  \\\n",
       "222835  The straps are completely messed up. They are very uncomfortable. I would not buy boots from her...   \n",
       "\n",
       "        overall              summary  unixReviewTime   reviewTime  \n",
       "222835        5  I was not impressed      1383004800  10 29, 2013  "
      ]
     },
     "execution_count": 99,
     "metadata": {},
     "output_type": "execute_result"
    }
   ],
   "source": [
    "df[df.reviewText.str.contains('straps') & \n",
    "   df.reviewText.str.contains('messed') & \n",
    "   df.reviewText.str.contains('uncomfortable')\n",
    "  ]"
   ]
  },
  {
   "cell_type": "markdown",
   "metadata": {},
   "source": [
    "so...yeap, this is a very negative review, yet the customer gave an overall score of 5! 🤷🏻‍♂️\n",
    "\n",
    "There is not much any algorithm can do here, but there are a few last comments I want to make:\n",
    "\n",
    "1. One can clearly see that a better pre-processing is possible. Little to no preprocessing was used INTENTIONALLY. If you read previous notebooks I include some code in case someone wants to do a more thorought preprocessing. Of course, possibilities are almost endless.\n",
    "2. Maybe we could use some pseud-labelling and re-labell some of the examples where the review and the score are not consistent, as we saw before (if we find more).\n",
    "2. The fact that attention is normally place in isolated words or bigrams suggests that using tf-idf with bigrams or trigrams will probably lead to the same results as using HANs. However, tf-idf with bigrams will increase significantly the amount of memory required.\n",
    "\n",
    "And with this I conclude my experimentation with Hierarchical Attention Networks."
   ]
  }
 ],
 "metadata": {
  "kernelspec": {
   "display_name": "Python 3",
   "language": "python",
   "name": "python3"
  },
  "language_info": {
   "codemirror_mode": {
    "name": "ipython",
    "version": 3
   },
   "file_extension": ".py",
   "mimetype": "text/x-python",
   "name": "python",
   "nbconvert_exporter": "python",
   "pygments_lexer": "ipython3",
   "version": "3.6.5"
  }
 },
 "nbformat": 4,
 "nbformat_minor": 2
}
